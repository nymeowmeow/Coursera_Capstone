{
 "cells": [
  {
   "cell_type": "markdown",
   "metadata": {},
   "source": [
    "# The Battle of Neighborhoods - Week 1"
   ]
  },
  {
   "cell_type": "markdown",
   "metadata": {},
   "source": [
    "### background\n",
    "\n",
    "New York city is a major financial hub, and has diverse cultural. There are variety of restaurants in new york featuring various international cusines, like sushi, korean, mexican etc. The competiton among restaurants are intense.\n",
    "\n",
    "Before openning a new restaurants in New York, careful analysis has to be made in order to pick the right location, and various factors like demographics, neighborhood income level in order to reduce business risk.\n"
   ]
  },
  {
   "cell_type": "markdown",
   "metadata": {},
   "source": [
    "### Project Description\n",
    "\n",
    "One of your client is asking you for a recommendation as to where he should open a new sushi restaurant in new york. Restaurant business in New York is very ccompetitive. Various factos needs to be consider carefully.\n",
    "\n",
    "1. ease of commuting, is public transportation within walking distance. It is very expensive to maintain a car in the city, being easily accessible from public transportation will be a plus.\n",
    "2. income level of the neighborhood is important, as most likely customers will be from the neighborhood. people with higher income will be more likely to visit restaurant more often.\n",
    "3. average age in the neighborhood is also important. Younger people is more likely to visit restaurant to gathering.\n",
    "4. competitors in the neighorhood is also another important factor to consider.\n",
    "5. population density around the neighborhood"
   ]
  },
  {
   "cell_type": "markdown",
   "metadata": {},
   "source": [
    "### Data"
   ]
  },
  {
   "cell_type": "markdown",
   "metadata": {},
   "source": [
    "### geospatial data for nyc neighborhood\n",
    "1. https://geo.nyu.edu/catalog/nyu_2451_34572\n",
    "2. https://www1.nyc.gov/site/planning/data-maps/city-neighborhoods.page\n",
    "\n",
    "The dataset provides information regarding the longtitudal and latitudital coordinate for each neighborhood in NYC. We can then use the information provided to find out more detail information regarding the neighborhood using the foursquare api.\n",
    "\n",
    "### foursquare api to find the venue around the neighborhood\n",
    "1. Foursquare Developers Access to venue data: https://foursquare.com/. \n",
    "\n",
    "Foursquare allows the usage of api to find out more information regarding the neighborhood given the longtitude and latitude of a neighborhood.\n",
    "\n",
    "### population, average income and demographics\n",
    "1. https://en.wikipedia.org/wiki/New_York_City\n",
    "2. https://en.wikipedia.org/wiki/Demographics_of_New_York_City\n",
    "3. https://www.baruch.cuny.edu/nycdata/population-geography/age_distribution.htm\n",
    "4. https://www.baruch.cuny.edu/nycdata/income-taxes/med_hhold_income.htm\n",
    "5. https://en.wikipedia.org/wiki/Cuisine_of_New_York_City\n",
    "6. https://en.wikipedia.org/wiki/List_of_Michelin_starred_restaurants_in_New_York_City\n",
    "\n",
    "The data source above provides some background statistics about new york city, such as the age, median income, demographics, cuisine and population density for each borough.\n",
    "\n",
    "\n"
   ]
  },
  {
   "cell_type": "code",
   "execution_count": null,
   "metadata": {},
   "outputs": [],
   "source": []
  }
 ],
 "metadata": {
  "kernelspec": {
   "display_name": "py36-gpu",
   "language": "python",
   "name": "py36-gpu"
  },
  "language_info": {
   "codemirror_mode": {
    "name": "ipython",
    "version": 3
   },
   "file_extension": ".py",
   "mimetype": "text/x-python",
   "name": "python",
   "nbconvert_exporter": "python",
   "pygments_lexer": "ipython3",
   "version": "3.6.3"
  }
 },
 "nbformat": 4,
 "nbformat_minor": 2
}
